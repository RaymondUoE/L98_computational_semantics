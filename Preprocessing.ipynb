{
 "cells": [
  {
   "cell_type": "code",
   "execution_count": 20,
   "id": "591bb1e2-afa9-4449-baa0-220cba6d44b7",
   "metadata": {},
   "outputs": [],
   "source": [
    "import json\n",
    "import os\n",
    "import pandas as pd\n",
    "import pickle as pkl"
   ]
  },
  {
   "cell_type": "code",
   "execution_count": 39,
   "id": "ba6eb0c0",
   "metadata": {},
   "outputs": [],
   "source": [
    "DEEPBANK_PATH = './deepbank1.1/'\n",
    "PENN_TREEBANK_PATH = './ptb/nw/wsj'\n",
    "SEMLINK_FILE = './semlink/other_resources/1.2.2c.okay'\n",
    "OUT_MAPPINGS_FILE = './sl_mappings.csv'\n",
    "OUT_SENTENCES_FILE = './sentences.csv'\n",
    "OUT_TREE_FILE = './trees.csv'"
   ]
  },
  {
   "cell_type": "code",
   "execution_count": 3,
   "id": "8dc46f89",
   "metadata": {},
   "outputs": [
    {
     "data": {
      "text/plain": [
       "74977"
      ]
     },
     "execution_count": 3,
     "metadata": {},
     "output_type": "execute_result"
    }
   ],
   "source": [
    "with open(SEMLINK_FILE) as f:\n",
    "    file = f.readlines()\n",
    "len(file)"
   ]
  },
  {
   "cell_type": "code",
   "execution_count": 34,
   "id": "23469dac",
   "metadata": {},
   "outputs": [],
   "source": [
    "mappings = []\n",
    "with open(SEMLINK_FILE) as f:\n",
    "    file = f.readlines()\n",
    "for line in file:\n",
    "    contents = line.split()\n",
    "    sem_map = {}\n",
    "    sem_map['section_id'] = str(int(contents[0].split('/')[-2]))\n",
    "    sem_map['doc_id'] = str(int(contents[0].split('/')[-1].split('_')[1].split('.')[0]))\n",
    "    sem_map['sentence_id'] = str(int(contents[1]))\n",
    "    sem_map['token_id'] = str(int(contents[2]))\n",
    "    sem_map['is_gold'] = contents[3]\n",
    "    sem_map['vb_form'] = contents[4]\n",
    "    sem_map['vn_class_index'] = contents[5]\n",
    "    sem_map['fn_frame'] = contents[6]\n",
    "    sem_map['pb_sense'] = contents[7]\n",
    "    sem_map['not_sure_0'] = contents[8]\n",
    "    sem_map['not_sure_1'] = contents[9]\n",
    "    sem_map['augmentations'] = contents[10:]\n",
    "    \n",
    "    mappings.append(sem_map)"
   ]
  },
  {
   "cell_type": "code",
   "execution_count": 35,
   "id": "0c166cdd",
   "metadata": {},
   "outputs": [],
   "source": [
    "pd.DataFrame(mappings).sort_values(by=['section_id', 'doc_id', 'sentence_id']).reset_index(drop=True).to_csv(OUT_MAPPINGS_FILE, index=False)"
   ]
  },
  {
   "cell_type": "code",
   "execution_count": 2,
   "id": "32d3d195-a59b-475a-a746-eb3051391e40",
   "metadata": {},
   "outputs": [],
   "source": [
    "pb_vn_mappings = json.load(open(\"semlink/instances/pb-vn2.json\"))\n",
    "vn_fn_mappings = json.load(open(\"semlink/instances/vn-fn2.json\"))"
   ]
  },
  {
   "cell_type": "code",
   "execution_count": 4,
   "id": "cb957dfe-d109-45f3-ab98-f60368df00ae",
   "metadata": {},
   "outputs": [
    {
     "data": {
      "text/plain": [
       "4177"
      ]
     },
     "execution_count": 4,
     "metadata": {},
     "output_type": "execute_result"
    }
   ],
   "source": [
    "len(pb_vn_mappings)"
   ]
  },
  {
   "cell_type": "code",
   "execution_count": 5,
   "id": "8d0721e1-353e-4f8c-ae72-ac074b26247c",
   "metadata": {},
   "outputs": [
    {
     "data": {
      "text/plain": [
       "1681"
      ]
     },
     "execution_count": 5,
     "metadata": {},
     "output_type": "execute_result"
    }
   ],
   "source": [
    "len(vn_fn_mappings)"
   ]
  },
  {
   "cell_type": "code",
   "execution_count": 17,
   "id": "25ed28d6-9a75-4d76-98eb-a657830f47ca",
   "metadata": {},
   "outputs": [
    {
     "data": {
      "text/plain": [
       "['Cooking_creation',\n",
       " 'Intentionally_create',\n",
       " 'Building',\n",
       " 'Cause_change',\n",
       " 'Manufacturing']"
      ]
     },
     "execution_count": 17,
     "metadata": {},
     "output_type": "execute_result"
    }
   ],
   "source": [
    "vn_fn_mappings['26.1-1-make']"
   ]
  },
  {
   "cell_type": "code",
   "execution_count": 19,
   "id": "99fee365-f0f4-4b5a-9ad7-aed30afa9f96",
   "metadata": {},
   "outputs": [
    {
     "ename": "KeyError",
     "evalue": "'recognize.01'",
     "output_type": "error",
     "traceback": [
      "\u001b[0;31m---------------------------------------------------------------------------\u001b[0m",
      "\u001b[0;31mKeyError\u001b[0m                                  Traceback (most recent call last)",
      "\u001b[0;32m/tmp/ipykernel_218/2084034739.py\u001b[0m in \u001b[0;36m<module>\u001b[0;34m\u001b[0m\n\u001b[0;32m----> 1\u001b[0;31m \u001b[0mpb_vn_mappings\u001b[0m\u001b[0;34m[\u001b[0m\u001b[0;34m'recognize.01'\u001b[0m\u001b[0;34m]\u001b[0m\u001b[0;34m\u001b[0m\u001b[0;34m\u001b[0m\u001b[0m\n\u001b[0m",
      "\u001b[0;31mKeyError\u001b[0m: 'recognize.01'"
     ]
    }
   ],
   "source": [
    "pb_vn_mappings['recognize.01']"
   ]
  },
  {
   "cell_type": "code",
   "execution_count": 1,
   "id": "5f19ca0d-96c9-4dd9-8fb5-971ca4254b3d",
   "metadata": {},
   "outputs": [],
   "source": [
    "with open('./deepbank1.1/wsj00a/20001001') as f:\n",
    "    file = f.read()"
   ]
  },
  {
   "cell_type": "code",
   "execution_count": 32,
   "id": "ce532627-b2ca-4e41-a562-e976fa1265ae",
   "metadata": {
    "tags": []
   },
   "outputs": [
    {
     "data": {
      "text/plain": [
       "'{\\n  proper_q<0:28> BV named<7:14>(Vinken)  \\n  compound<0:14> ARG1 named<7:14>(Vinken)  \\n  compound<0:14> ARG2 named<0:6>(Pierre)  \\n  proper_q<0:6> BV named<0:6>(Pierre)  \\n  measure<15:23> ARG1 _old_a_1<24:28>  \\n  measure<15:23> ARG2 _year_n_1<18:23>  \\n  udef_q<15:23> BV _year_n_1<18:23>  \\n  card<15:17>(61) ARG1 _year_n_1<18:23>  \\n  _old_a_1<24:28> ARG1 named<7:14>(Vinken)  \\n  _join_v_1<34:38> ARG1 named<7:14>(Vinken)  \\n  _join_v_1<34:38> ARG2 _board_n_of<43:48>  \\n  _the_q<39:42> BV _board_n_of<43:48>  \\n  _as_p<49:51> ARG1 _join_v_1<34:38>  \\n  _as_p<49:51> ARG2 _director_n_of<67:75>  \\n  _a_q<52:53> BV _director_n_of<67:75>  \\n  _nonexecutive/jj_u_unknown<54:66> ARG1 _director_n_of<67:75>  \\n  loc_nonsp<76:84> ARG1 _join_v_1<34:38>  \\n  loc_nonsp<76:84> ARG2 dofm<81:84>(29)  \\n  def_explicit_q<76:80> BV dofm<81:84>(29)  \\n  of_p<76:80> ARG1 dofm<81:84>(29)  \\n  of_p<76:80> ARG2 mofy<76:80>(Nov)  \\n  def_implicit_q<76:80> BV mofy<76:80>(Nov)  \\n  compound<0:14> SF prop  \\n  compound<0:14> TENSE untensed  \\n  compound<0:14> MOOD indicative  \\n  compound<0:14> PROG -  \\n  compound<0:14> PERF -  \\n  named<0:6>(Pierre) PERS 3  \\n  named<0:6>(Pierre) NUM sg  \\n  named<0:6>(Pierre) IND +  \\n  named<7:14>(Vinken) PERS 3  \\n  named<7:14>(Vinken) NUM sg  \\n  named<7:14>(Vinken) IND +  \\n  measure<15:23> SF prop  \\n  measure<15:23> TENSE untensed  \\n  measure<15:23> MOOD indicative  \\n  measure<15:23> PROG -  \\n  measure<15:23> PERF -  \\n  card<15:17>(61) SF prop  \\n  card<15:17>(61) TENSE untensed  \\n  card<15:17>(61) MOOD indicative  \\n  card<15:17>(61) PROG -  \\n  card<15:17>(61) PERF -  \\n  _year_n_1<18:23> PERS 3  \\n  _year_n_1<18:23> NUM pl  \\n  _year_n_1<18:23> IND +  \\n  _old_a_1<24:28> SF prop  \\n  _old_a_1<24:28> TENSE untensed  \\n  _old_a_1<24:28> MOOD indicative  \\n  _old_a_1<24:28> PROG -  \\n  _old_a_1<24:28> PERF -  \\n  _join_v_1<34:38> SF prop  \\n  _join_v_1<34:38> TENSE fut  \\n  _join_v_1<34:38> MOOD indicative  \\n  _join_v_1<34:38> PROG -  \\n  _join_v_1<34:38> PERF -  \\n  _board_n_of<43:48> PERS 3  \\n  _board_n_of<43:48> NUM sg  \\n  _as_p<49:51> SF prop  \\n  _as_p<49:51> TENSE untensed  \\n  _as_p<49:51> MOOD indicative  \\n  _as_p<49:51> PROG -  \\n  _as_p<49:51> PERF -  \\n  _nonexecutive/jj_u_unknown<54:66> SF prop  \\n  _nonexecutive/jj_u_unknown<54:66> TENSE untensed  \\n  _nonexecutive/jj_u_unknown<54:66> MOOD indicative  \\n  _nonexecutive/jj_u_unknown<54:66> PROG -  \\n  _nonexecutive/jj_u_unknown<54:66> PERF -  \\n  _director_n_of<67:75> PERS 3  \\n  _director_n_of<67:75> NUM sg  \\n  _director_n_of<67:75> IND +  \\n  loc_nonsp<76:84> SF prop  \\n  loc_nonsp<76:84> TENSE untensed  \\n  loc_nonsp<76:84> MOOD indicative  \\n  loc_nonsp<76:84> PROG -  \\n  loc_nonsp<76:84> PERF -  \\n  mofy<76:80>(Nov) PERS 3  \\n  mofy<76:80>(Nov) NUM sg  \\n  mofy<76:80>(Nov) IND +  \\n  of_p<76:80> SF prop  \\n  of_p<76:80> TENSE untensed  \\n  of_p<76:80> MOOD indicative  \\n  of_p<76:80> PROG -  \\n  of_p<76:80> PERF -  \\n  dofm<81:84>(29) PERS 3  \\n  dofm<81:84>(29) NUM sg  \\n  dofm<81:84>(29) GEND n  \\n  dofm<81:84>(29) IND +  \\n}'"
      ]
     },
     "execution_count": 32,
     "metadata": {},
     "output_type": "execute_result"
    }
   ],
   "source": [
    "file.split('\\n\\n')[8]"
   ]
  },
  {
   "cell_type": "code",
   "execution_count": 11,
   "id": "b659fec7-179f-4916-bd42-f3e751ed6ce8",
   "metadata": {
    "tags": []
   },
   "outputs": [
    {
     "data": {
      "text/plain": [
       "<function list.sort(*, key=None, reverse=False)>"
      ]
     },
     "execution_count": 11,
     "metadata": {},
     "output_type": "execute_result"
    }
   ],
   "source": [
    "os.listdir('./deepbank1.1/')"
   ]
  },
  {
   "cell_type": "code",
   "execution_count": 36,
   "id": "c8a9cc71-2f39-4a47-a423-198751c38221",
   "metadata": {
    "tags": []
   },
   "outputs": [],
   "source": [
    "# sentence id start with 1 here, 0 in okay\n",
    "docs = []\n",
    "\n",
    "for folder_name in os.listdir(DEEPBANK_PATH):\n",
    "    if folder_name[0] != '.':\n",
    "        for file_name in os.listdir(os.path.join(DEEPBANK_PATH, folder_name)):\n",
    "            if file_name[0] != '.':\n",
    "                # print(file_name)\n",
    "                with open(os.path.join(DEEPBANK_PATH, folder_name, file_name), 'r') as f: # open in readonly mode\n",
    "                    contents = f.read().split('\\n\\n')\n",
    "                    doc = {}\n",
    "                    doc['section_id'] = str(int(folder_name[3:5]))\n",
    "                    doc['doc_id'] = str(int(file_name[1:5]))\n",
    "                    doc['sentence_id'] = str(int(file_name[5:]))\n",
    "                    doc['sentence'] = contents[1].split('`')[1].split('\\'')[0]\n",
    "                    doc['constituency'] = contents[5]\n",
    "                    doc['eds'] = contents[7]\n",
    "                    doc['dependency'] = contents[8]\n",
    "                    \n",
    "                    docs.append(doc)"
   ]
  },
  {
   "cell_type": "code",
   "execution_count": 37,
   "id": "017cf3ce-e8fe-40d2-9971-873d7ac89382",
   "metadata": {},
   "outputs": [],
   "source": [
    "pd.DataFrame(docs).sort_values(by=['section_id', 'doc_id', 'sentence_id']).reset_index(drop=True).to_csv(OUT_SENTENCES_FILE, index=False)"
   ]
  },
  {
   "cell_type": "code",
   "execution_count": 30,
   "id": "f9e6378a-dab8-4d17-b104-9ef50faf50ac",
   "metadata": {
    "tags": []
   },
   "outputs": [],
   "source": [
    "trees = []\n",
    "\n",
    "for section_id in os.listdir(PENN_TREEBANK_PATH):\n",
    "    for file_name in os.listdir(os.path.join(PENN_TREEBANK_PATH, section_id)):\n",
    "        with open(os.path.join(PENN_TREEBANK_PATH, section_id, file_name), 'r') as f: # open in readonly mode\n",
    "            contents = f.read().split('\\n\\n')\n",
    "            for t, i in zip(contents, range(len(contents))):\n",
    "                my_dict = {}\n",
    "                my_dict['section_id'] = str(int(section_id))\n",
    "                my_dict['doc_id'] = str(int(file_name.split('.')[0][-2:]))\n",
    "                my_dict['sentence_id'] = str(int(i))\n",
    "                my_dict['tree'] = t\n",
    "                \n",
    "                trees.append(my_dict)\n"
   ]
  },
  {
   "cell_type": "code",
   "execution_count": 41,
   "id": "58c8cccc-af2a-48be-8059-227cfba02c7d",
   "metadata": {},
   "outputs": [],
   "source": [
    "pd.DataFrame(trees).sort_values(by=['section_id', 'doc_id', 'sentence_id']).reset_index(drop=True).to_csv(OUT_TREE_FILE, index=False)"
   ]
  }
 ],
 "metadata": {
  "kernelspec": {
   "display_name": "Python 3 (ipykernel)",
   "language": "python",
   "name": "python3"
  },
  "language_info": {
   "codemirror_mode": {
    "name": "ipython",
    "version": 3
   },
   "file_extension": ".py",
   "mimetype": "text/x-python",
   "name": "python",
   "nbconvert_exporter": "python",
   "pygments_lexer": "ipython3",
   "version": "3.9.13"
  }
 },
 "nbformat": 4,
 "nbformat_minor": 5
}
