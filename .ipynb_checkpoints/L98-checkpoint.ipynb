{
 "cells": [
  {
   "cell_type": "code",
   "execution_count": 1,
   "id": "591bb1e2-afa9-4449-baa0-220cba6d44b7",
   "metadata": {},
   "outputs": [],
   "source": [
    "import json\n",
    "\n"
   ]
  },
  {
   "cell_type": "code",
   "execution_count": 2,
   "id": "32d3d195-a59b-475a-a746-eb3051391e40",
   "metadata": {},
   "outputs": [],
   "source": [
    "pb_vn_mappings = json.load(open(\"semlink/instances/pb-vn2.json\"))\n",
    "vn_fn_mappings = json.load(open(\"semlink/instances/vn-fn2.json\"))"
   ]
  },
  {
   "cell_type": "code",
   "execution_count": 4,
   "id": "cb957dfe-d109-45f3-ab98-f60368df00ae",
   "metadata": {},
   "outputs": [
    {
     "data": {
      "text/plain": [
       "4177"
      ]
     },
     "execution_count": 4,
     "metadata": {},
     "output_type": "execute_result"
    }
   ],
   "source": [
    "len(pb_vn_mappings)"
   ]
  },
  {
   "cell_type": "code",
   "execution_count": 5,
   "id": "8d0721e1-353e-4f8c-ae72-ac074b26247c",
   "metadata": {},
   "outputs": [
    {
     "data": {
      "text/plain": [
       "1681"
      ]
     },
     "execution_count": 5,
     "metadata": {},
     "output_type": "execute_result"
    }
   ],
   "source": [
    "len(vn_fn_mappings)"
   ]
  },
  {
   "cell_type": "code",
   "execution_count": 6,
   "id": "25ed28d6-9a75-4d76-98eb-a657830f47ca",
   "metadata": {},
   "outputs": [],
   "source": [
    "import torch"
   ]
  },
  {
   "cell_type": "code",
   "execution_count": null,
   "id": "99fee365-f0f4-4b5a-9ad7-aed30afa9f96",
   "metadata": {},
   "outputs": [],
   "source": []
  },
  {
   "cell_type": "code",
   "execution_count": null,
   "id": "5f19ca0d-96c9-4dd9-8fb5-971ca4254b3d",
   "metadata": {},
   "outputs": [],
   "source": []
  },
  {
   "cell_type": "code",
   "execution_count": null,
   "id": "ce532627-b2ca-4e41-a562-e976fa1265ae",
   "metadata": {},
   "outputs": [],
   "source": []
  }
 ],
 "metadata": {
  "kernelspec": {
   "display_name": "Python 3 (ipykernel)",
   "language": "python",
   "name": "python3"
  },
  "language_info": {
   "codemirror_mode": {
    "name": "ipython",
    "version": 3
   },
   "file_extension": ".py",
   "mimetype": "text/x-python",
   "name": "python",
   "nbconvert_exporter": "python",
   "pygments_lexer": "ipython3",
   "version": "3.9.13"
  }
 },
 "nbformat": 4,
 "nbformat_minor": 5
}
