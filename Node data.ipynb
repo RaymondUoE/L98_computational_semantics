{
 "cells": [
  {
   "cell_type": "code",
   "execution_count": 262,
   "id": "5ecf0147-c4f5-44e6-bb4f-14d3574f4221",
   "metadata": {},
   "outputs": [],
   "source": [
    "import pandas as pd\n",
    "import delphin.codecs.eds\n",
    "import torch\n",
    "from transformers import BertTokenizer, BertModel\n",
    "import numpy as np\n",
    "from tqdm import tqdm"
   ]
  },
  {
   "cell_type": "code",
   "execution_count": 38,
   "id": "83cf5ba9-f8d0-4cce-86e6-f4ef9e2d03a5",
   "metadata": {},
   "outputs": [
    {
     "data": {
      "application/vnd.jupyter.widget-view+json": {
       "model_id": "04cf42a9ac914d5d8f635e8b3a1dcf29",
       "version_major": 2,
       "version_minor": 0
      },
      "text/plain": [
       "Downloading:   0%|          | 0.00/570 [00:00<?, ?B/s]"
      ]
     },
     "metadata": {},
     "output_type": "display_data"
    }
   ],
   "source": [
    "tokenizer = BertTokenizer.from_pretrained('bert-base-uncased')"
   ]
  },
  {
   "cell_type": "code",
   "execution_count": 68,
   "id": "4e5bb300-096c-4bc6-ae8f-d5172e6e3d19",
   "metadata": {},
   "outputs": [],
   "source": [
    "device = \"cuda:0\" if torch.cuda.is_available() else \"cpu\""
   ]
  },
  {
   "cell_type": "code",
   "execution_count": 514,
   "id": "f53369fb-d3c9-42cb-b6a3-a3212ef8f0c6",
   "metadata": {},
   "outputs": [],
   "source": [
    "train_data = pd.read_csv('./gnn/data/raw/gnn_data_dgl_train_small.csv')"
   ]
  },
  {
   "cell_type": "code",
   "execution_count": 517,
   "id": "b16d2884-6b4a-41d0-86d1-192509ba31d3",
   "metadata": {},
   "outputs": [
    {
     "data": {
      "text/plain": [
       "44671"
      ]
     },
     "execution_count": 517,
     "metadata": {},
     "output_type": "execute_result"
    }
   ],
   "source": [
    "len(train_data)"
   ]
  },
  {
   "cell_type": "code",
   "execution_count": 325,
   "id": "bec52835-98f6-4b55-ba22-2b1a8765f690",
   "metadata": {},
   "outputs": [],
   "source": [
    "edses = []\n",
    "sentences = []\n",
    "for index, row in train_data.iterrows():\n",
    "    edses.append(delphin.codecs.eds.decode(row['eds']))\n",
    "    sentences.append(row['sentence'])"
   ]
  },
  {
   "cell_type": "code",
   "execution_count": 25,
   "id": "b938e4de-f798-42a5-8cc8-bc33221f255a",
   "metadata": {},
   "outputs": [
    {
     "data": {
      "text/plain": [
       "[<Node object (_1:proper_q<0:28>[?]) at 139893443332688>,\n",
       " <Node object (e10:compound<0:14>[e]) at 139893443332800>,\n",
       " <Node object (_2:proper_q<0:6>[?]) at 139893443332912>,\n",
       " <Node object (x9:named<0:6>[x]) at 139893443331904>,\n",
       " <Node object (x6:named<7:14>[x]) at 139893443332016>,\n",
       " <Node object (e17:measure<15:23>[e]) at 139893443333024>,\n",
       " <Node object (_3:udef_q<15:23>[?]) at 139893443333136>,\n",
       " <Node object (e22:card<15:17>[e]) at 139893443333248>,\n",
       " <Node object (x15:_year_n_1<18:23>[x]) at 139893443332128>,\n",
       " <Node object (e16:_old_a_1<24:28>[e]) at 139893443333360>,\n",
       " <Node object (e3:_join_v_1<34:38>[e]) at 139893443333472>,\n",
       " <Node object (_4:_the_q<39:42>[?]) at 139893443333584>,\n",
       " <Node object (x23:_board_n_of<43:48>[x]) at 139893443333696>,\n",
       " <Node object (e29:_as_p<49:51>[e]) at 139893443333808>,\n",
       " <Node object (_5:_a_q<52:53>[?]) at 139893443333920>,\n",
       " <Node object (e35:_nonexecutive/jj_u_unknown<54:66>[e]) at 139893443334032>,\n",
       " <Node object (x30:_director_n_of<67:75>[x]) at 139893443332240>,\n",
       " <Node object (e37:loc_nonsp<76:84>[e]) at 139893443383360>,\n",
       " <Node object (x40:mofy<76:80>[x]) at 139893443332352>,\n",
       " <Node object (_6:def_explicit_q<76:80>[?]) at 139893443383472>,\n",
       " <Node object (e45:of_p<76:80>[e]) at 139893443383584>,\n",
       " <Node object (_7:def_implicit_q<76:80>[?]) at 139893443383696>,\n",
       " <Node object (x38:dofm<81:84>[x]) at 139893443332464>]"
      ]
     },
     "execution_count": 25,
     "metadata": {},
     "output_type": "execute_result"
    }
   ],
   "source": [
    "edses[0].nodes"
   ]
  },
  {
   "cell_type": "code",
   "execution_count": 218,
   "id": "51ceed95-d93b-4d78-9885-2da979920b8c",
   "metadata": {},
   "outputs": [
    {
     "data": {
      "text/plain": [
       "0"
      ]
     },
     "execution_count": 218,
     "metadata": {},
     "output_type": "execute_result"
    }
   ],
   "source": [
    "edses[0].nodes[0].lnk.data[0]"
   ]
  },
  {
   "cell_type": "code",
   "execution_count": 29,
   "id": "99f09853-9cce-4daf-b49f-4119efd3a8fc",
   "metadata": {},
   "outputs": [
    {
     "data": {
      "text/plain": [
       "{'PERS': '3', 'NUM': 'pl', 'IND': '+'}"
      ]
     },
     "execution_count": 29,
     "metadata": {},
     "output_type": "execute_result"
    }
   ],
   "source": [
    "edses[0].nodes[8].properties"
   ]
  },
  {
   "cell_type": "code",
   "execution_count": 33,
   "id": "851bd0e4-4a0e-41fd-8988-dd1e2971a9a4",
   "metadata": {
    "collapsed": true,
    "jupyter": {
     "outputs_hidden": true
    },
    "tags": []
   },
   "outputs": [
    {
     "name": "stdout",
     "output_type": "stream",
     "text": [
      "P 0\n",
      "i 1\n",
      "e 2\n",
      "r 3\n",
      "r 4\n",
      "e 5\n",
      "  6\n",
      "V 7\n",
      "i 8\n",
      "n 9\n",
      "k 10\n",
      "e 11\n",
      "n 12\n",
      ", 13\n",
      "  14\n",
      "6 15\n",
      "1 16\n",
      "  17\n",
      "y 18\n",
      "e 19\n",
      "a 20\n",
      "r 21\n",
      "s 22\n",
      "  23\n",
      "o 24\n",
      "l 25\n",
      "d 26\n",
      ", 27\n",
      "  28\n",
      "w 29\n",
      "i 30\n",
      "l 31\n",
      "l 32\n",
      "  33\n",
      "j 34\n",
      "o 35\n",
      "i 36\n",
      "n 37\n",
      "  38\n",
      "t 39\n",
      "h 40\n",
      "e 41\n",
      "  42\n",
      "b 43\n",
      "o 44\n",
      "a 45\n",
      "r 46\n",
      "d 47\n",
      "  48\n",
      "a 49\n",
      "s 50\n",
      "  51\n",
      "a 52\n",
      "  53\n",
      "n 54\n",
      "o 55\n",
      "n 56\n",
      "e 57\n",
      "x 58\n",
      "e 59\n",
      "c 60\n",
      "u 61\n",
      "t 62\n",
      "i 63\n",
      "v 64\n",
      "e 65\n",
      "  66\n",
      "d 67\n",
      "i 68\n",
      "r 69\n",
      "e 70\n",
      "c 71\n",
      "t 72\n",
      "o 73\n",
      "r 74\n",
      "  75\n",
      "N 76\n",
      "o 77\n",
      "v 78\n",
      ". 79\n",
      "  80\n",
      "2 81\n",
      "9 82\n",
      ". 83\n"
     ]
    }
   ],
   "source": [
    "for i, c in zip(range(len(sentences[0])), sentences[0]):\n",
    "    print(c + ' ' + str(i))"
   ]
  },
  {
   "cell_type": "code",
   "execution_count": 460,
   "id": "6a103394-4265-41d3-8085-0f1792bd405b",
   "metadata": {},
   "outputs": [],
   "source": [
    "def bert_featurerise(sentences=None):\n",
    "    # return last hidden layer of bert\n",
    "    # if no sentence provided, build from training dataset\n",
    "\n",
    "    longest_sentence = sentences[np.argmax([len(x) for x in sentences])]\n",
    "\n",
    "\n",
    "    print('Loading tokenizer...')\n",
    "    tokenizer = BertTokenizer.from_pretrained('bert-base-uncased')\n",
    "    # account for <CLS> and <SEP>\n",
    "    padding_length = len(tokenizer.tokenize(longest_sentence)) + 2\n",
    "\n",
    "    print('Loading BERT...')\n",
    "    model = BertModel.from_pretrained('bert-base-uncased',\n",
    "                                    output_hidden_states = True, # returns all hidden-states.\n",
    "                                    ).to(device)\n",
    "    model.eval()\n",
    "    batch_size = 8\n",
    "\n",
    "    tokens_list = []\n",
    "    token_embeddings = []\n",
    "    for idx in tqdm(range(0, len(sentences), batch_size), total=int(np.ceil(len(sentences)/batch_size))):\n",
    "        batch = sentences[idx : min(len(sentences), idx+batch_size)]\n",
    "\n",
    "        encoded = tokenizer.batch_encode_plus(batch,max_length=padding_length, padding='max_length', truncation=True)\n",
    "        for ids in encoded['input_ids']:\n",
    "            tks = tokenizer.convert_ids_to_tokens(ids)\n",
    "            tokens_list.append(list(filter(lambda x: x != '[PAD]', tks)))\n",
    "\n",
    "        encoded = {key:torch.LongTensor(value).to(device) for key, value in encoded.items()}\n",
    "        with torch.no_grad():\n",
    "            outputs = model(**encoded)\n",
    "        lhs = outputs.last_hidden_state\n",
    "        attention = encoded['attention_mask'].reshape((lhs.size()[0], lhs.size()[1], -1)).expand(-1, -1, 768)\n",
    "        mask = (attention > 0)[:,:,0]\n",
    "\n",
    "        # unbatch\n",
    "        for i, m in enumerate(mask):\n",
    "            token_embeddings.append(lhs[i,:][m])\n",
    "    # <CLS> tokens <SEP>\n",
    "    return tokens_list, token_embeddings\n",
    "\n",
    "def eds_nodes_to_surface_char_level(eds, sentence):\n",
    "    surface_per_node = []\n",
    "    surface_per_node = {}\n",
    "    for n in eds.nodes:\n",
    "        if n.lnk.data:\n",
    "            start = n.lnk.data[0]\n",
    "            stop = n.lnk.data[1]\n",
    "            # surface_per_node.append(sentence[start:stop])\n",
    "            surface_per_node[n.id] = {'surface': sentence[start:stop]}\n",
    "            surface_per_node[n.id]['start_char'] = start\n",
    "            surface_per_node[n.id]['stop_char'] = stop\n",
    "        else:\n",
    "            # surface_per_node.append('')\n",
    "            surface_per_node[n.id] = {'surface': ''}\n",
    "    return dict(sorted(surface_per_node.items(), key=lambda x: int(x[1]['start_char'])))\n",
    "\n",
    "# def get_node_span_embedding(eds, sentence, tokens, token_embeddings):\n",
    "# def get_node_span_embedding(eds, sentence, tokens):\n",
    "#     surface_per_node = eds_nodes_to_surface_char_level(eds, sentence)\n",
    "#     span_embeddings = {}\n",
    "#     for node_id, surface['surface'] in surface_per_node:\n",
    "#         a, b = surface_string_to_token_index(surface, tokens, surface)\n",
    "#         # embeddings = token_embeddings[a:b]\n",
    "#         # span_embeddings.append([a,b])\n",
    "#         span\n",
    "#     return span_embeddings\n",
    "\n",
    "# def surface_string_to_token_index(string_to_be_matched, tokens, original_string, a=0, b=1, match_started=False):\n",
    "def surface_string_to_token_index(string_to_be_matched, tokens, original_string, a, b, match_started=False):\n",
    "    # print(string_to_be_matched)\n",
    "    # string_to_be_matched = string_to_be_matched.lower()\n",
    "    if string_to_be_matched == '':\n",
    "        return a, b\n",
    "    else:\n",
    "        if match_started:\n",
    "            start_token = tokens[b]\n",
    "            if not string_to_be_matched.startswith(start_token): #false match\n",
    "                return surface_string_to_token_index(original_string, tokens, original_string, a+1, a+2, False)\n",
    "            else:\n",
    "                return surface_string_to_token_index(string_to_be_matched[len(start_token):].strip(), tokens,original_string, a, b+1, True)\n",
    "\n",
    "        else:\n",
    "            start_token = tokens[a]\n",
    "            if string_to_be_matched.startswith(start_token):\n",
    "                return surface_string_to_token_index(string_to_be_matched[len(start_token):].strip(), tokens, original_string, a, b, True)\n",
    "            else:\n",
    "                return surface_string_to_token_index(string_to_be_matched, tokens, original_string, a+1, b+1, False)\n",
    "            \n",
    "def match_node_spans_with_token_index(node_spans_dict, tokens):\n",
    "    # node_spans = [x.lower() for x in node_spans]\n",
    "    tokens = [x[2:] if x[:2] == '##' else x for x in tokens]\n",
    "    a = 0\n",
    "    # node_span_index = []\n",
    "    \n",
    "    for node_id, info_dict in node_spans_dict.items():\n",
    "        cur_span = info_dict['surface'].lower()\n",
    "        start, finish = surface_string_to_token_index(cur_span, tokens, cur_span, a, a+1)\n",
    "        # node_span_index.append((start, finish))\n",
    "        node_spans_dict[node_id]['token_index'] = (start, finish)\n",
    "        a = start\n",
    "        print((start, finish))\n",
    "    return node_spans_dict"
   ]
  },
  {
   "cell_type": "code",
   "execution_count": 481,
   "id": "2faec0c3-2bd0-48bc-83a2-82d7719044a5",
   "metadata": {
    "tags": []
   },
   "outputs": [
    {
     "data": {
      "text/plain": [
       "['cr',\n",
       " '##ay',\n",
       " 'computer',\n",
       " 'also',\n",
       " 'will',\n",
       " 'face',\n",
       " 'intense',\n",
       " 'competition',\n",
       " ',',\n",
       " 'not',\n",
       " 'only',\n",
       " 'from',\n",
       " 'cr',\n",
       " '##ay',\n",
       " 'research',\n",
       " ',',\n",
       " 'which',\n",
       " 'has',\n",
       " 'about',\n",
       " '60',\n",
       " '%',\n",
       " 'of',\n",
       " 'the',\n",
       " 'world',\n",
       " '-',\n",
       " 'wide',\n",
       " 'super',\n",
       " '##com',\n",
       " '##put',\n",
       " '##er',\n",
       " 'market',\n",
       " 'and',\n",
       " 'which',\n",
       " 'is',\n",
       " 'expected',\n",
       " 'to',\n",
       " 'roll',\n",
       " 'out',\n",
       " 'the',\n",
       " 'c',\n",
       " '-',\n",
       " '90',\n",
       " 'machine',\n",
       " ',',\n",
       " 'a',\n",
       " 'direct',\n",
       " 'competitor',\n",
       " 'with',\n",
       " 'the',\n",
       " 'cr',\n",
       " '##ay',\n",
       " '-',\n",
       " '3',\n",
       " ',',\n",
       " 'in',\n",
       " '1991',\n",
       " '.']"
      ]
     },
     "execution_count": 481,
     "metadata": {},
     "output_type": "execute_result"
    }
   ],
   "source": [
    "issue_ind = 234\n",
    "tokens = tokenizer.tokenize(sentences[issue_ind])\n",
    "tokens"
   ]
  },
  {
   "cell_type": "code",
   "execution_count": 475,
   "id": "64cd863b-8d96-43db-bf4c-5830f92c7c47",
   "metadata": {
    "tags": []
   },
   "outputs": [
    {
     "data": {
      "text/plain": [
       "{'_1': {'surface': 'Cray Computer', 'start_char': 0, 'stop_char': 13},\n",
       " 'e10': {'surface': 'Cray Computer', 'start_char': 0, 'stop_char': 13},\n",
       " '_2': {'surface': 'Cray', 'start_char': 0, 'stop_char': 4},\n",
       " 'x9': {'surface': 'Cray', 'start_char': 0, 'stop_char': 4},\n",
       " 'x6': {'surface': 'Computer', 'start_char': 5, 'stop_char': 13},\n",
       " 'e15': {'surface': 'also', 'start_char': 14, 'stop_char': 18},\n",
       " 'e3': {'surface': 'face', 'start_char': 24, 'stop_char': 28},\n",
       " '_3': {'surface': 'intense competition, not only from Cray Research, which has about 60% of the world-wide supercomputer market and which is expected to roll out the C-90 machine, a direct competitor with the Cray-3, in 1991.',\n",
       "  'start_char': 29,\n",
       "  'stop_char': 235},\n",
       " 'e23': {'surface': 'intense', 'start_char': 29, 'stop_char': 36},\n",
       " 'x18': {'surface': 'competition,', 'start_char': 37, 'stop_char': 49},\n",
       " 'e24': {'surface': 'not only', 'start_char': 50, 'stop_char': 58},\n",
       " 'e25': {'surface': 'from', 'start_char': 59, 'stop_char': 63},\n",
       " '_4': {'surface': 'Cray Research, which has about 60% of the world-wide supercomputer market and which is expected to roll out the C-90 machine, a direct competitor with the Cray-3, in 1991.',\n",
       "  'start_char': 64,\n",
       "  'stop_char': 235},\n",
       " 'e32': {'surface': 'Cray Research,', 'start_char': 64, 'stop_char': 78},\n",
       " '_5': {'surface': 'Cray', 'start_char': 64, 'stop_char': 68},\n",
       " 'x31': {'surface': 'Cray', 'start_char': 64, 'stop_char': 68},\n",
       " 'x26': {'surface': 'Research,', 'start_char': 69, 'stop_char': 78},\n",
       " 'e38': {'surface': 'has', 'start_char': 85, 'stop_char': 88},\n",
       " 'e41': {'surface': 'about', 'start_char': 89, 'stop_char': 94},\n",
       " '_6': {'surface': '60% of the world-wide supercomputer market',\n",
       "  'start_char': 95,\n",
       "  'stop_char': 137},\n",
       " 'e46': {'surface': '60', 'start_char': 95, 'stop_char': 97},\n",
       " 'x39': {'surface': '%', 'start_char': 97, 'stop_char': 98},\n",
       " 'e47': {'surface': 'of', 'start_char': 99, 'stop_char': 101},\n",
       " '_7': {'surface': 'the', 'start_char': 102, 'stop_char': 105},\n",
       " 'e55': {'surface': 'world-wide', 'start_char': 106, 'stop_char': 116},\n",
       " '_8': {'surface': 'world-wide', 'start_char': 106, 'stop_char': 116},\n",
       " 'x54': {'surface': 'world-wide', 'start_char': 106, 'stop_char': 116},\n",
       " 'e53': {'surface': 'world-wide', 'start_char': 106, 'stop_char': 116},\n",
       " 'e62': {'surface': 'supercomputer market',\n",
       "  'start_char': 117,\n",
       "  'stop_char': 137},\n",
       " '_9': {'surface': 'supercomputer', 'start_char': 117, 'stop_char': 130},\n",
       " 'x61': {'surface': 'supercomputer', 'start_char': 117, 'stop_char': 130},\n",
       " 'x48': {'surface': 'market', 'start_char': 131, 'stop_char': 137},\n",
       " 'e67': {'surface': 'and', 'start_char': 138, 'stop_char': 141},\n",
       " 'e69': {'surface': 'expected', 'start_char': 151, 'stop_char': 159},\n",
       " 'e73': {'surface': 'expected', 'start_char': 151, 'stop_char': 159},\n",
       " 'e75': {'surface': 'roll', 'start_char': 163, 'stop_char': 167},\n",
       " 'e78': {'surface': 'the C-90 machine, a direct competitor with the Cray-3,',\n",
       "  'start_char': 172,\n",
       "  'stop_char': 226},\n",
       " '_10': {'surface': 'the', 'start_char': 172, 'stop_char': 175},\n",
       " 'e84': {'surface': 'C-90 machine,', 'start_char': 176, 'stop_char': 189},\n",
       " '_11': {'surface': 'C-90', 'start_char': 176, 'stop_char': 180},\n",
       " 'x83': {'surface': 'C-90', 'start_char': 176, 'stop_char': 180},\n",
       " 'x76': {'surface': 'machine,', 'start_char': 181, 'stop_char': 189},\n",
       " '_12': {'surface': 'a', 'start_char': 190, 'stop_char': 191},\n",
       " 'e93': {'surface': 'direct', 'start_char': 192, 'stop_char': 198},\n",
       " 'x77': {'surface': 'competitor', 'start_char': 199, 'stop_char': 209},\n",
       " 'e94': {'surface': 'with', 'start_char': 210, 'stop_char': 214},\n",
       " '_13': {'surface': 'the', 'start_char': 215, 'stop_char': 218},\n",
       " 'e101': {'surface': 'Cray-3,', 'start_char': 219, 'stop_char': 226},\n",
       " '_14': {'surface': 'Cray-3', 'start_char': 219, 'stop_char': 225},\n",
       " 'x100': {'surface': 'Cray-3', 'start_char': 219, 'stop_char': 225},\n",
       " 'x95': {'surface': 'Cray-3,', 'start_char': 219, 'stop_char': 226},\n",
       " 'e107': {'surface': 'in', 'start_char': 227, 'stop_char': 229},\n",
       " '_15': {'surface': '1991.', 'start_char': 230, 'stop_char': 235},\n",
       " 'x108': {'surface': '1991.', 'start_char': 230, 'stop_char': 235}}"
      ]
     },
     "execution_count": 475,
     "metadata": {},
     "output_type": "execute_result"
    }
   ],
   "source": [
    "node_spans_dict = eds_nodes_to_surface_char_level(edses[issue_ind], sentences[issue_ind])\n",
    "node_spans_dict"
   ]
  },
  {
   "cell_type": "code",
   "execution_count": 479,
   "id": "e17a20ff-d882-46d4-a1d8-de0ea8d5c08e",
   "metadata": {},
   "outputs": [],
   "source": [
    "eds = edses[issue_ind]\n",
    "sentence = sentences[issue_ind]"
   ]
  },
  {
   "cell_type": "code",
   "execution_count": 480,
   "id": "57861343-7f4e-4b9d-be29-2326320c31d0",
   "metadata": {},
   "outputs": [
    {
     "data": {
      "text/plain": [
       "'\"You either believe Seymour can do it again or you don'"
      ]
     },
     "execution_count": 480,
     "metadata": {},
     "output_type": "execute_result"
    }
   ],
   "source": [
    "sentence"
   ]
  },
  {
   "cell_type": "code",
   "execution_count": 476,
   "id": "51edd487-8627-4ec8-8034-8c2bffb0dab0",
   "metadata": {
    "collapsed": true,
    "jupyter": {
     "outputs_hidden": true
    },
    "tags": []
   },
   "outputs": [
    {
     "name": "stdout",
     "output_type": "stream",
     "text": [
      "(0, 3)\n",
      "(0, 3)\n",
      "(0, 2)\n",
      "(0, 2)\n",
      "(2, 3)\n",
      "(3, 4)\n",
      "(5, 6)\n",
      "(6, 57)\n",
      "(6, 7)\n",
      "(7, 9)\n",
      "(9, 11)\n",
      "(11, 12)\n",
      "(12, 57)\n",
      "(12, 16)\n",
      "(12, 14)\n",
      "(12, 14)\n",
      "(14, 16)\n",
      "(17, 18)\n",
      "(18, 19)\n",
      "(19, 31)\n",
      "(19, 20)\n",
      "(20, 21)\n",
      "(21, 22)\n",
      "(22, 23)\n",
      "(23, 26)\n",
      "(23, 26)\n",
      "(23, 26)\n",
      "(23, 26)\n",
      "(26, 31)\n",
      "(26, 30)\n",
      "(26, 30)\n",
      "(30, 31)\n",
      "(31, 32)\n",
      "(34, 35)\n",
      "(34, 35)\n",
      "(36, 37)\n",
      "(38, 54)\n",
      "(38, 39)\n",
      "(39, 44)\n",
      "(39, 42)\n",
      "(39, 42)\n",
      "(42, 44)\n",
      "(44, 45)\n",
      "(45, 46)\n",
      "(46, 47)\n",
      "(47, 48)\n",
      "(48, 49)\n",
      "(49, 54)\n",
      "(49, 53)\n",
      "(49, 53)\n",
      "(49, 54)\n",
      "(54, 55)\n",
      "(55, 57)\n",
      "(55, 57)\n"
     ]
    },
    {
     "data": {
      "text/plain": [
       "{'_1': {'surface': 'Cray Computer',\n",
       "  'start_char': 0,\n",
       "  'stop_char': 13,\n",
       "  'token_index': (0, 3)},\n",
       " 'e10': {'surface': 'Cray Computer',\n",
       "  'start_char': 0,\n",
       "  'stop_char': 13,\n",
       "  'token_index': (0, 3)},\n",
       " '_2': {'surface': 'Cray',\n",
       "  'start_char': 0,\n",
       "  'stop_char': 4,\n",
       "  'token_index': (0, 2)},\n",
       " 'x9': {'surface': 'Cray',\n",
       "  'start_char': 0,\n",
       "  'stop_char': 4,\n",
       "  'token_index': (0, 2)},\n",
       " 'x6': {'surface': 'Computer',\n",
       "  'start_char': 5,\n",
       "  'stop_char': 13,\n",
       "  'token_index': (2, 3)},\n",
       " 'e15': {'surface': 'also',\n",
       "  'start_char': 14,\n",
       "  'stop_char': 18,\n",
       "  'token_index': (3, 4)},\n",
       " 'e3': {'surface': 'face',\n",
       "  'start_char': 24,\n",
       "  'stop_char': 28,\n",
       "  'token_index': (5, 6)},\n",
       " '_3': {'surface': 'intense competition, not only from Cray Research, which has about 60% of the world-wide supercomputer market and which is expected to roll out the C-90 machine, a direct competitor with the Cray-3, in 1991.',\n",
       "  'start_char': 29,\n",
       "  'stop_char': 235,\n",
       "  'token_index': (6, 57)},\n",
       " 'e23': {'surface': 'intense',\n",
       "  'start_char': 29,\n",
       "  'stop_char': 36,\n",
       "  'token_index': (6, 7)},\n",
       " 'x18': {'surface': 'competition,',\n",
       "  'start_char': 37,\n",
       "  'stop_char': 49,\n",
       "  'token_index': (7, 9)},\n",
       " 'e24': {'surface': 'not only',\n",
       "  'start_char': 50,\n",
       "  'stop_char': 58,\n",
       "  'token_index': (9, 11)},\n",
       " 'e25': {'surface': 'from',\n",
       "  'start_char': 59,\n",
       "  'stop_char': 63,\n",
       "  'token_index': (11, 12)},\n",
       " '_4': {'surface': 'Cray Research, which has about 60% of the world-wide supercomputer market and which is expected to roll out the C-90 machine, a direct competitor with the Cray-3, in 1991.',\n",
       "  'start_char': 64,\n",
       "  'stop_char': 235,\n",
       "  'token_index': (12, 57)},\n",
       " 'e32': {'surface': 'Cray Research,',\n",
       "  'start_char': 64,\n",
       "  'stop_char': 78,\n",
       "  'token_index': (12, 16)},\n",
       " '_5': {'surface': 'Cray',\n",
       "  'start_char': 64,\n",
       "  'stop_char': 68,\n",
       "  'token_index': (12, 14)},\n",
       " 'x31': {'surface': 'Cray',\n",
       "  'start_char': 64,\n",
       "  'stop_char': 68,\n",
       "  'token_index': (12, 14)},\n",
       " 'x26': {'surface': 'Research,',\n",
       "  'start_char': 69,\n",
       "  'stop_char': 78,\n",
       "  'token_index': (14, 16)},\n",
       " 'e38': {'surface': 'has',\n",
       "  'start_char': 85,\n",
       "  'stop_char': 88,\n",
       "  'token_index': (17, 18)},\n",
       " 'e41': {'surface': 'about',\n",
       "  'start_char': 89,\n",
       "  'stop_char': 94,\n",
       "  'token_index': (18, 19)},\n",
       " '_6': {'surface': '60% of the world-wide supercomputer market',\n",
       "  'start_char': 95,\n",
       "  'stop_char': 137,\n",
       "  'token_index': (19, 31)},\n",
       " 'e46': {'surface': '60',\n",
       "  'start_char': 95,\n",
       "  'stop_char': 97,\n",
       "  'token_index': (19, 20)},\n",
       " 'x39': {'surface': '%',\n",
       "  'start_char': 97,\n",
       "  'stop_char': 98,\n",
       "  'token_index': (20, 21)},\n",
       " 'e47': {'surface': 'of',\n",
       "  'start_char': 99,\n",
       "  'stop_char': 101,\n",
       "  'token_index': (21, 22)},\n",
       " '_7': {'surface': 'the',\n",
       "  'start_char': 102,\n",
       "  'stop_char': 105,\n",
       "  'token_index': (22, 23)},\n",
       " 'e55': {'surface': 'world-wide',\n",
       "  'start_char': 106,\n",
       "  'stop_char': 116,\n",
       "  'token_index': (23, 26)},\n",
       " '_8': {'surface': 'world-wide',\n",
       "  'start_char': 106,\n",
       "  'stop_char': 116,\n",
       "  'token_index': (23, 26)},\n",
       " 'x54': {'surface': 'world-wide',\n",
       "  'start_char': 106,\n",
       "  'stop_char': 116,\n",
       "  'token_index': (23, 26)},\n",
       " 'e53': {'surface': 'world-wide',\n",
       "  'start_char': 106,\n",
       "  'stop_char': 116,\n",
       "  'token_index': (23, 26)},\n",
       " 'e62': {'surface': 'supercomputer market',\n",
       "  'start_char': 117,\n",
       "  'stop_char': 137,\n",
       "  'token_index': (26, 31)},\n",
       " '_9': {'surface': 'supercomputer',\n",
       "  'start_char': 117,\n",
       "  'stop_char': 130,\n",
       "  'token_index': (26, 30)},\n",
       " 'x61': {'surface': 'supercomputer',\n",
       "  'start_char': 117,\n",
       "  'stop_char': 130,\n",
       "  'token_index': (26, 30)},\n",
       " 'x48': {'surface': 'market',\n",
       "  'start_char': 131,\n",
       "  'stop_char': 137,\n",
       "  'token_index': (30, 31)},\n",
       " 'e67': {'surface': 'and',\n",
       "  'start_char': 138,\n",
       "  'stop_char': 141,\n",
       "  'token_index': (31, 32)},\n",
       " 'e69': {'surface': 'expected',\n",
       "  'start_char': 151,\n",
       "  'stop_char': 159,\n",
       "  'token_index': (34, 35)},\n",
       " 'e73': {'surface': 'expected',\n",
       "  'start_char': 151,\n",
       "  'stop_char': 159,\n",
       "  'token_index': (34, 35)},\n",
       " 'e75': {'surface': 'roll',\n",
       "  'start_char': 163,\n",
       "  'stop_char': 167,\n",
       "  'token_index': (36, 37)},\n",
       " 'e78': {'surface': 'the C-90 machine, a direct competitor with the Cray-3,',\n",
       "  'start_char': 172,\n",
       "  'stop_char': 226,\n",
       "  'token_index': (38, 54)},\n",
       " '_10': {'surface': 'the',\n",
       "  'start_char': 172,\n",
       "  'stop_char': 175,\n",
       "  'token_index': (38, 39)},\n",
       " 'e84': {'surface': 'C-90 machine,',\n",
       "  'start_char': 176,\n",
       "  'stop_char': 189,\n",
       "  'token_index': (39, 44)},\n",
       " '_11': {'surface': 'C-90',\n",
       "  'start_char': 176,\n",
       "  'stop_char': 180,\n",
       "  'token_index': (39, 42)},\n",
       " 'x83': {'surface': 'C-90',\n",
       "  'start_char': 176,\n",
       "  'stop_char': 180,\n",
       "  'token_index': (39, 42)},\n",
       " 'x76': {'surface': 'machine,',\n",
       "  'start_char': 181,\n",
       "  'stop_char': 189,\n",
       "  'token_index': (42, 44)},\n",
       " '_12': {'surface': 'a',\n",
       "  'start_char': 190,\n",
       "  'stop_char': 191,\n",
       "  'token_index': (44, 45)},\n",
       " 'e93': {'surface': 'direct',\n",
       "  'start_char': 192,\n",
       "  'stop_char': 198,\n",
       "  'token_index': (45, 46)},\n",
       " 'x77': {'surface': 'competitor',\n",
       "  'start_char': 199,\n",
       "  'stop_char': 209,\n",
       "  'token_index': (46, 47)},\n",
       " 'e94': {'surface': 'with',\n",
       "  'start_char': 210,\n",
       "  'stop_char': 214,\n",
       "  'token_index': (47, 48)},\n",
       " '_13': {'surface': 'the',\n",
       "  'start_char': 215,\n",
       "  'stop_char': 218,\n",
       "  'token_index': (48, 49)},\n",
       " 'e101': {'surface': 'Cray-3,',\n",
       "  'start_char': 219,\n",
       "  'stop_char': 226,\n",
       "  'token_index': (49, 54)},\n",
       " '_14': {'surface': 'Cray-3',\n",
       "  'start_char': 219,\n",
       "  'stop_char': 225,\n",
       "  'token_index': (49, 53)},\n",
       " 'x100': {'surface': 'Cray-3',\n",
       "  'start_char': 219,\n",
       "  'stop_char': 225,\n",
       "  'token_index': (49, 53)},\n",
       " 'x95': {'surface': 'Cray-3,',\n",
       "  'start_char': 219,\n",
       "  'stop_char': 226,\n",
       "  'token_index': (49, 54)},\n",
       " 'e107': {'surface': 'in',\n",
       "  'start_char': 227,\n",
       "  'stop_char': 229,\n",
       "  'token_index': (54, 55)},\n",
       " '_15': {'surface': '1991.',\n",
       "  'start_char': 230,\n",
       "  'stop_char': 235,\n",
       "  'token_index': (55, 57)},\n",
       " 'x108': {'surface': '1991.',\n",
       "  'start_char': 230,\n",
       "  'stop_char': 235,\n",
       "  'token_index': (55, 57)}}"
      ]
     },
     "execution_count": 476,
     "metadata": {},
     "output_type": "execute_result"
    }
   ],
   "source": [
    "match_node_spans_with_token_index(node_spans_dict, tokens)"
   ]
  },
  {
   "cell_type": "code",
   "execution_count": 447,
   "id": "749f30d8-1adb-459f-98bf-50141757796f",
   "metadata": {
    "tags": []
   },
   "outputs": [
    {
     "data": {
      "text/plain": [
       "(3, 15)"
      ]
     },
     "execution_count": 447,
     "metadata": {},
     "output_type": "execute_result"
    }
   ],
   "source": [
    "ind = 2\n",
    "cur_span = node_spans[ind].lower()\n",
    "a = 2\n",
    "tokens = [x[2:] if x[:2]=='##' else x for x in tokens]\n",
    "surface_string_to_token_index(cur_span, tokens, cur_span, a, a+1)"
   ]
  },
  {
   "cell_type": "code",
   "execution_count": 446,
   "id": "f6b8af2f-095a-45c4-9ca9-bbff11ae7a0e",
   "metadata": {},
   "outputs": [
    {
     "data": {
      "text/plain": [
       "False"
      ]
     },
     "execution_count": 446,
     "metadata": {},
     "output_type": "execute_result"
    }
   ],
   "source": [
    "cur_span.startswith(tokens[4:][0])"
   ]
  },
  {
   "cell_type": "code",
   "execution_count": 445,
   "id": "3993e5bb-0ef6-44e8-8967-7c9dbe56cdb6",
   "metadata": {},
   "outputs": [
    {
     "data": {
      "text/plain": [
       "'malizia negus, editor of money fund report,'"
      ]
     },
     "execution_count": 445,
     "metadata": {},
     "output_type": "execute_result"
    }
   ],
   "source": [
    "cur_span[len(tokens[3:][0]):].strip()"
   ]
  },
  {
   "cell_type": "code",
   "execution_count": 441,
   "id": "f5eae769-1a92-4742-a4c9-6df27eda0153",
   "metadata": {
    "collapsed": true,
    "jupyter": {
     "outputs_hidden": true
    },
    "tags": []
   },
   "outputs": [
    {
     "data": {
      "text/plain": [
       "['said',\n",
       " 'brenda',\n",
       " 'mali',\n",
       " '##zia',\n",
       " 'ne',\n",
       " '##gus',\n",
       " ',',\n",
       " 'editor',\n",
       " 'of',\n",
       " 'money',\n",
       " 'fund',\n",
       " 'report',\n",
       " ',',\n",
       " 'yields',\n",
       " '\"',\n",
       " 'may',\n",
       " 'b',\n",
       " '##lip',\n",
       " 'up',\n",
       " 'again',\n",
       " 'before',\n",
       " 'they',\n",
       " 'b',\n",
       " '##lip',\n",
       " 'down',\n",
       " '\"',\n",
       " 'because',\n",
       " 'of',\n",
       " 'recent',\n",
       " 'rises',\n",
       " 'in',\n",
       " 'short',\n",
       " '-',\n",
       " 'term',\n",
       " 'interest',\n",
       " 'rates',\n",
       " '.']"
      ]
     },
     "execution_count": 441,
     "metadata": {},
     "output_type": "execute_result"
    }
   ],
   "source": [
    "tokens[2:]"
   ]
  },
  {
   "cell_type": "code",
   "execution_count": 471,
   "id": "e2b68d1e-06b4-4e01-8df3-51801e175fae",
   "metadata": {},
   "outputs": [],
   "source": [
    "issue = 'in 1991.'"
   ]
  },
  {
   "cell_type": "code",
   "execution_count": 472,
   "id": "8ff6c037-5891-4115-b787-78ec3a7548eb",
   "metadata": {
    "tags": []
   },
   "outputs": [],
   "source": [
    "for i in range (len(sentences)):\n",
    "    if issue in sentences[i]:\n",
    "        break"
   ]
  },
  {
   "cell_type": "code",
   "execution_count": 473,
   "id": "47f38f49-21db-44a0-9441-8f4bf2abe9df",
   "metadata": {},
   "outputs": [
    {
     "data": {
      "text/plain": [
       "234"
      ]
     },
     "execution_count": 473,
     "metadata": {},
     "output_type": "execute_result"
    }
   ],
   "source": [
    "i"
   ]
  },
  {
   "cell_type": "code",
   "execution_count": 291,
   "id": "6c457785-9462-4e44-ab3d-8a77c7512555",
   "metadata": {},
   "outputs": [
    {
     "name": "stdout",
     "output_type": "stream",
     "text": [
      "Loading tokenizer...\n",
      "Loading BERT...\n"
     ]
    },
    {
     "name": "stderr",
     "output_type": "stream",
     "text": [
      "Some weights of the model checkpoint at bert-base-uncased were not used when initializing BertModel: ['cls.seq_relationship.bias', 'cls.predictions.transform.dense.weight', 'cls.predictions.transform.dense.bias', 'cls.predictions.transform.LayerNorm.bias', 'cls.seq_relationship.weight', 'cls.predictions.decoder.weight', 'cls.predictions.transform.LayerNorm.weight', 'cls.predictions.bias']\n",
      "- This IS expected if you are initializing BertModel from the checkpoint of a model trained on another task or with another architecture (e.g. initializing a BertForSequenceClassification model from a BertForPreTraining model).\n",
      "- This IS NOT expected if you are initializing BertModel from the checkpoint of a model that you expect to be exactly identical (initializing a BertForSequenceClassification model from a BertForSequenceClassification model).\n",
      "100%|█████████████████████████████████████████████████████████████████████████████████████| 1/1 [00:00<00:00, 21.13it/s]\n"
     ]
    }
   ],
   "source": [
    "sentences = [ \n",
    "              \"Hello I'm a single sentence\",\n",
    "              \"And another sentence\",\n",
    "              \"And the very very last one long long sentence\",\n",
    "              \"Hello I'm a single sentence\",\n",
    "              \"And another sentence\",\n",
    "              \"And the very very last one\",\n",
    "              \"Hello I'm a single sentence\",\n",
    "              \"And another sentence\"\n",
    "            ]\n",
    "tokens_list, token_embeddings = bert_featurerise(sentences)"
   ]
  },
  {
   "cell_type": "code",
   "execution_count": 277,
   "id": "7c3915fc-2e9f-433a-99e3-a9f3c8900bc6",
   "metadata": {},
   "outputs": [
    {
     "data": {
      "text/plain": [
       "[[101, 7592, 1045, 1005, 1049, 1037, 2309, 6251, 102, 0, 0],\n",
       " [101, 1998, 2178, 6251, 102, 0, 0, 0, 0, 0, 0],\n",
       " [101, 1998, 1996, 2200, 2200, 2197, 2028, 2146, 2146, 6251, 102],\n",
       " [101, 7592, 1045, 1005, 1049, 1037, 2309, 6251, 102, 0, 0],\n",
       " [101, 1998, 2178, 6251, 102, 0, 0, 0, 0, 0, 0],\n",
       " [101, 1998, 1996, 2200, 2200, 2197, 2028, 102, 0, 0, 0],\n",
       " [101, 7592, 1045, 1005, 1049, 1037, 2309, 6251, 102, 0, 0],\n",
       " [101, 1998, 2178, 6251, 102, 0, 0, 0, 0, 0, 0]]"
      ]
     },
     "execution_count": 277,
     "metadata": {},
     "output_type": "execute_result"
    }
   ],
   "source": [
    "encoded['input_ids']"
   ]
  },
  {
   "cell_type": "code",
   "execution_count": 292,
   "id": "f96f49b6-29b2-46ee-8bbd-bd179abd5c59",
   "metadata": {},
   "outputs": [
    {
     "data": {
      "text/plain": [
       "[['[CLS]', 'hello', 'i', \"'\", 'm', 'a', 'single', 'sentence', '[SEP]'],\n",
       " ['[CLS]', 'and', 'another', 'sentence', '[SEP]'],\n",
       " ['[CLS]',\n",
       "  'and',\n",
       "  'the',\n",
       "  'very',\n",
       "  'very',\n",
       "  'last',\n",
       "  'one',\n",
       "  'long',\n",
       "  'long',\n",
       "  'sentence',\n",
       "  '[SEP]'],\n",
       " ['[CLS]', 'hello', 'i', \"'\", 'm', 'a', 'single', 'sentence', '[SEP]'],\n",
       " ['[CLS]', 'and', 'another', 'sentence', '[SEP]'],\n",
       " ['[CLS]', 'and', 'the', 'very', 'very', 'last', 'one', '[SEP]'],\n",
       " ['[CLS]', 'hello', 'i', \"'\", 'm', 'a', 'single', 'sentence', '[SEP]'],\n",
       " ['[CLS]', 'and', 'another', 'sentence', '[SEP]']]"
      ]
     },
     "execution_count": 292,
     "metadata": {},
     "output_type": "execute_result"
    }
   ],
   "source": [
    "tokens_list"
   ]
  },
  {
   "cell_type": "code",
   "execution_count": 293,
   "id": "5d7e6ba8-c2ae-420a-af25-1c385a950d09",
   "metadata": {},
   "outputs": [
    {
     "data": {
      "text/plain": [
       "['[CLS]', 'hello', 'i', \"'\", 'm', 'a', 'single', 'sentence', '[SEP]']"
      ]
     },
     "execution_count": 293,
     "metadata": {},
     "output_type": "execute_result"
    }
   ],
   "source": [
    "tokens = tokens_list[0]\n",
    "tokens"
   ]
  },
  {
   "cell_type": "code",
   "execution_count": 320,
   "id": "c66644ad-6ae6-46a2-aaaf-a1641e53bcf3",
   "metadata": {},
   "outputs": [
    {
     "data": {
      "text/plain": [
       "torch.Size([4, 768])"
      ]
     },
     "execution_count": 320,
     "metadata": {},
     "output_type": "execute_result"
    }
   ],
   "source": [
    "token_embeddings[0][1:5].shape"
   ]
  },
  {
   "cell_type": "code",
   "execution_count": 314,
   "id": "b408d2b8-4091-4ba4-8449-3079afb62be5",
   "metadata": {},
   "outputs": [],
   "source": [
    "def get_node_span_embedding(eds, sentence, tokens, token_embeddings):\n",
    "    surface_per_node = eds_nodes_to_surface_char_level(eds, sentence)\n",
    "    span_embeddings = []\n",
    "    for surface in surface_per_node:\n",
    "        a, b = surface_string_to_token_index(surface, tokens)\n",
    "        embeddings = token_embeddings[a:b]\n",
    "\n",
    "        span_embeddings.append(torch.mean(torch.cat(embeddings, dim=0), dim=0).unsqueeze(0))\n",
    "    return span_embeddings"
   ]
  },
  {
   "cell_type": "code",
   "execution_count": 322,
   "id": "f76715d2-ba9b-4618-82c7-9583abf9d8f7",
   "metadata": {},
   "outputs": [
    {
     "data": {
      "text/plain": [
       "torch.Size([1, 768])"
      ]
     },
     "execution_count": 322,
     "metadata": {},
     "output_type": "execute_result"
    }
   ],
   "source": [
    "\n",
    "torch.mean(token_embeddings[0][1:5], dim=0).unsqueeze(0).shape"
   ]
  },
  {
   "cell_type": "code",
   "execution_count": 429,
   "id": "5912551b-cdc7-46ce-9ca6-7e0e4163a8d7",
   "metadata": {},
   "outputs": [
    {
     "data": {
      "text/plain": [
       "'\"safas'"
      ]
     },
     "execution_count": 429,
     "metadata": {},
     "output_type": "execute_result"
    }
   ],
   "source": [
    "'\"safas'.strip()"
   ]
  },
  {
   "cell_type": "code",
   "execution_count": 497,
   "id": "3b77dfad-2382-423a-a834-cb8b33477412",
   "metadata": {},
   "outputs": [
    {
     "data": {
      "text/plain": [
       "torch.Size([1, 24])"
      ]
     },
     "execution_count": 497,
     "metadata": {},
     "output_type": "execute_result"
    }
   ],
   "source": [
    "a\n",
    "b.shape"
   ]
  },
  {
   "cell_type": "code",
   "execution_count": 500,
   "id": "7808831e-9f42-4f46-9e72-60df13c670a2",
   "metadata": {},
   "outputs": [
    {
     "data": {
      "text/plain": [
       "torch.Size([1, 48])"
      ]
     },
     "execution_count": 500,
     "metadata": {},
     "output_type": "execute_result"
    }
   ],
   "source": [
    "torch.cat([a,b],dim=1 ).shape"
   ]
  },
  {
   "cell_type": "code",
   "execution_count": 493,
   "id": "11c89cf8-517a-4901-b256-b8406b4b3ee8",
   "metadata": {},
   "outputs": [
    {
     "data": {
      "text/plain": [
       "{'input_ids': [[101, 13675, 4710, 3274, 2036, 2097, 2227, 6387, 2971, 1010, 2025, 2069, 2013, 13675, 4710, 2470, 1010, 2029, 2038, 2055, 3438, 1003, 1997, 1996, 2088, 1011, 2898, 3565, 9006, 18780, 2121, 3006, 1998, 2029, 2003, 3517, 2000, 4897, 2041, 1996, 1039, 1011, 3938, 3698, 1010, 1037, 3622, 12692, 2007, 1996, 13675, 4710, 1011, 1017, 1010, 1999, 2889, 1012, 102], [101, 1996, 6714, 7245, 2036, 2097, 5566, 2007, 2248, 2449, 6681, 13058, 1012, 1998, 2900, 102], [101, 2104, 3408, 1997, 1996, 6714, 7245, 1010, 13675, 4710, 2470, 4518, 17794, 2024, 2000, 4374, 2028, 13675, 4710, 3274, 3745, 2005, 2296, 2048, 13675, 4710, 2470, 6661, 2027, 2219, 1999, 1037, 4353, 3517, 2000, 5258, 1999, 2055, 2048, 3134, 1012, 102]], 'token_type_ids': [[0, 0, 0, 0, 0, 0, 0, 0, 0, 0, 0, 0, 0, 0, 0, 0, 0, 0, 0, 0, 0, 0, 0, 0, 0, 0, 0, 0, 0, 0, 0, 0, 0, 0, 0, 0, 0, 0, 0, 0, 0, 0, 0, 0, 0, 0, 0, 0, 0, 0, 0, 0, 0, 0, 0, 0, 0, 0, 0], [0, 0, 0, 0, 0, 0, 0, 0, 0, 0, 0, 0, 0, 0, 0, 0], [0, 0, 0, 0, 0, 0, 0, 0, 0, 0, 0, 0, 0, 0, 0, 0, 0, 0, 0, 0, 0, 0, 0, 0, 0, 0, 0, 0, 0, 0, 0, 0, 0, 0, 0, 0, 0, 0, 0, 0, 0, 0]], 'attention_mask': [[1, 1, 1, 1, 1, 1, 1, 1, 1, 1, 1, 1, 1, 1, 1, 1, 1, 1, 1, 1, 1, 1, 1, 1, 1, 1, 1, 1, 1, 1, 1, 1, 1, 1, 1, 1, 1, 1, 1, 1, 1, 1, 1, 1, 1, 1, 1, 1, 1, 1, 1, 1, 1, 1, 1, 1, 1, 1, 1], [1, 1, 1, 1, 1, 1, 1, 1, 1, 1, 1, 1, 1, 1, 1, 1], [1, 1, 1, 1, 1, 1, 1, 1, 1, 1, 1, 1, 1, 1, 1, 1, 1, 1, 1, 1, 1, 1, 1, 1, 1, 1, 1, 1, 1, 1, 1, 1, 1, 1, 1, 1, 1, 1, 1, 1, 1, 1]]}"
      ]
     },
     "execution_count": 493,
     "metadata": {},
     "output_type": "execute_result"
    }
   ],
   "source": [
    "tokenizer(sentences[236:239])"
   ]
  },
  {
   "cell_type": "code",
   "execution_count": 492,
   "id": "f11e0ace-1ba7-4e58-bc02-4e7c576673fa",
   "metadata": {},
   "outputs": [
    {
     "data": {
      "text/plain": [
       "['Cray Computer also will face intense competition, not only from Cray Research, which has about 60% of the world-wide supercomputer market and which is expected to roll out the C-90 machine, a direct competitor with the Cray-3, in 1991.',\n",
       " 'The spinoff also will compete with International Business Machines Corp. and Japan',\n",
       " 'Under terms of the spinoff, Cray Research stockholders are to receive one Cray Computer share for every two Cray Research shares they own in a distribution expected to occur in about two weeks.']"
      ]
     },
     "execution_count": 494,
     "metadata": {},
     "output_type": "execute_result"
    }
   ],
   "source": [
    "sentences[236:239]"
   ]
  },
  {
   "cell_type": "code",
   "execution_count": 510,
   "id": "9d23e9e7-7cab-4e84-b47e-57acc5617934",
   "metadata": {},
   "outputs": [
    {
     "data": {
      "text/plain": [
       "'e'"
      ]
     },
     "execution_count": 510,
     "metadata": {},
     "output_type": "execute_result"
    }
   ],
   "source": [
    "eds.nodes[3].type"
   ]
  },
  {
   "cell_type": "code",
   "execution_count": 512,
   "id": "0e95d009-63ff-48e1-a57b-247d9ef43ea4",
   "metadata": {},
   "outputs": [
    {
     "data": {
      "text/plain": [
       "<Node object (x15:named<20:27>[x]) at 139893323863872>"
      ]
     },
     "execution_count": 512,
     "metadata": {},
     "output_type": "execute_result"
    }
   ],
   "source": [
    "eds.nodes[5]"
   ]
  },
  {
   "cell_type": "code",
   "execution_count": 513,
   "id": "023bba8a-0939-4b3c-b795-5b66778113bc",
   "metadata": {},
   "outputs": [
    {
     "data": {
      "text/plain": [
       "'001'"
      ]
     },
     "execution_count": 513,
     "metadata": {},
     "output_type": "execute_result"
    }
   ],
   "source": [
    "'1'.zfill(3)"
   ]
  }
 ],
 "metadata": {
  "kernelspec": {
   "display_name": "Python 3 (ipykernel)",
   "language": "python",
   "name": "python3"
  },
  "language_info": {
   "codemirror_mode": {
    "name": "ipython",
    "version": 3
   },
   "file_extension": ".py",
   "mimetype": "text/x-python",
   "name": "python",
   "nbconvert_exporter": "python",
   "pygments_lexer": "ipython3",
   "version": "3.9.13"
  }
 },
 "nbformat": 4,
 "nbformat_minor": 5
}
